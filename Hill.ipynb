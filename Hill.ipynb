{
 "cells": [
  {
   "cell_type": "code",
   "execution_count": 1,
   "id": "63c90ba9",
   "metadata": {},
   "outputs": [],
   "source": [
    "import math\n",
    "import numpy as np\n",
    "\n",
    "def generate_key_matrix(key):\n",
    "  row = math.ceil(len(key)/3)\n",
    "  key_mat = np.zeros((row,3))\n",
    "  # print(key_mat)\n",
    "  k=0\n",
    "  for i in range(3):\n",
    "    for j in range(row):\n",
    "      if k>=len(key):\n",
    "        break\n",
    "      key_mat[j][i] = ord(key[k]) - ord('a')\n",
    "      k+=1\n",
    "  return key_mat\n",
    "\n",
    "def encrypt(key, msg):\n",
    "  msg = msg.replace(\" \",\"\")\n",
    "  msg = msg.lower()\n",
    "  key_matrix = generate_key_matrix(key)\n",
    "  print(key_matrix)\n",
    "  cypher_text = \"\"\n",
    "  for i in range(0,len(msg),3):\n",
    "    lis = []\n",
    "    if i+3 >= len(msg):\n",
    "      temp = msg[i:]\n",
    "      for i in temp:\n",
    "        lis.append(ord(i) - ord('a'))\n",
    "      lis.extend([0]*(3-len(lis)))\n",
    "    else:\n",
    "      temp = msg[i:i+3]\n",
    "      for i in temp:\n",
    "        lis.append(ord(i) - ord('a'))\n",
    "    lis = np.array(lis).reshape((3,1))\n",
    "    # print(lis)\n",
    "    mul = np.matmul(key_matrix,lis)\n",
    "    # print(mul)\n",
    "    for i in range(len(mul)):\n",
    "      for j in range(len(mul[0])):\n",
    "        cypher_text += chr(int(ord('a') + mul[i][j]%26 ))\n",
    "  return cypher_text"
   ]
  },
  {
   "cell_type": "code",
   "execution_count": 2,
   "id": "cefd57ce",
   "metadata": {},
   "outputs": [
    {
     "name": "stdout",
     "output_type": "stream",
     "text": [
      "Key:  gnuyqrbkp\n",
      "Message:  Save the king as he will be attacked tonight\n",
      "[[ 6. 24.  1.]\n",
      " [13. 16. 10.]\n",
      " [20. 17. 15.]]\n",
      "\n",
      "Encrypted Message:  zcztkomggofyuwtxenqrlhakgccleaocxpqe\n"
     ]
    }
   ],
   "source": [
    "key = \"gnuyqrbkp\"\n",
    "message = \"Save the king as he will be attacked tonight\"\n",
    "\n",
    "print(\"Key: \", key)\n",
    "print(\"Message: \", message)\n",
    "\n",
    "enc_msg = encrypt(key, message)\n",
    "print(\"\\nEncrypted Message: \", enc_msg)\n",
    "\n",
    "# dec_msg = decrypt(key, enc_msg)\n",
    "# print(\"\\nDecrypted Message: \", dec_msg)"
   ]
  },
  {
   "cell_type": "code",
   "execution_count": null,
   "id": "14678756",
   "metadata": {},
   "outputs": [],
   "source": []
  }
 ],
 "metadata": {
  "kernelspec": {
   "display_name": "Python 3",
   "language": "python",
   "name": "python3"
  },
  "language_info": {
   "codemirror_mode": {
    "name": "ipython",
    "version": 3
   },
   "file_extension": ".py",
   "mimetype": "text/x-python",
   "name": "python",
   "nbconvert_exporter": "python",
   "pygments_lexer": "ipython3",
   "version": "3.8.8"
  }
 },
 "nbformat": 4,
 "nbformat_minor": 5
}
