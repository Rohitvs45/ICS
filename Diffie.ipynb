{
 "cells": [
  {
   "cell_type": "code",
   "execution_count": 2,
   "id": "b761d8bb",
   "metadata": {},
   "outputs": [
    {
     "name": "stdout",
     "output_type": "stream",
     "text": [
      "Enter Prime No. p : 13\n",
      "Enter Primitive root (q<p) : 6\n",
      "Enter Private key of Alice: 3\n",
      "Enter Private key of Bob: 10\n",
      "Publicly Shared Variables:\n",
      " Publicly Shared Prime:  13\n",
      " Publicly Shared Base:  6\n",
      "\n",
      " Alice Sends Over Public Chanel:  8\n",
      "\n",
      " Bob Sends Over Public Chanel:  4\n",
      "\n",
      "------------\n",
      "\n",
      "Privately Calculated Shared Secret:\n",
      " Alice Shared Secret:  12\n",
      " Bob Shared Secret:  12\n"
     ]
    }
   ],
   "source": [
    "sharedPrime = int(input(\"Enter Prime No. p : \")) # p\n",
    "sharedBase = int(input(\"Enter Primitive root (q<p) : \")) # q\n",
    "aliceSecret = int(input(\"Enter Private key of Alice: \")) # a\n",
    "bobSecret = int(input(\"Enter Private key of Bob: \")) # b\n",
    "print( \"Publicly Shared Variables:\")\n",
    "print( \" Publicly Shared Prime: \" , sharedPrime )\n",
    "print( \" Publicly Shared Base: \" , sharedBase )\n",
    "# Alice Sends Bob A = q^a mod p\n",
    "A = (sharedBase**aliceSecret) % sharedPrime\n",
    "print( \"\\n Alice Sends Over Public Chanel: \" , A )\n",
    "B = (sharedBase ** bobSecret) % sharedPrime\n",
    "print( \"\\n Bob Sends Over Public Chanel: \", B )\n",
    "print( \"\\n------------\\n\" )\n",
    "print( \"Privately Calculated Shared Secret:\" )\n",
    "aliceSharedSecret = (B ** aliceSecret) % sharedPrime\n",
    "print( \" Alice Shared Secret: \", aliceSharedSecret )\n",
    "bobSharedSecret = (A**bobSecret) % sharedPrime\n",
    "print( \" Bob Shared Secret: \", bobSharedSecret )"
   ]
  },
  {
   "cell_type": "code",
   "execution_count": null,
   "id": "01040ed5",
   "metadata": {},
   "outputs": [],
   "source": []
  }
 ],
 "metadata": {
  "kernelspec": {
   "display_name": "Python 3",
   "language": "python",
   "name": "python3"
  },
  "language_info": {
   "codemirror_mode": {
    "name": "ipython",
    "version": 3
   },
   "file_extension": ".py",
   "mimetype": "text/x-python",
   "name": "python",
   "nbconvert_exporter": "python",
   "pygments_lexer": "ipython3",
   "version": "3.8.8"
  }
 },
 "nbformat": 4,
 "nbformat_minor": 5
}
