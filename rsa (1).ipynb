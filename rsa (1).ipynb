{
 "cells": [
  {
   "cell_type": "code",
   "execution_count": 1,
   "id": "4bb2027f",
   "metadata": {},
   "outputs": [],
   "source": [
    "import math"
   ]
  },
  {
   "cell_type": "code",
   "execution_count": 2,
   "id": "31736688",
   "metadata": {},
   "outputs": [],
   "source": [
    "def isPrime(n):\n",
    "    if n == 2:\n",
    "        return True\n",
    "    if n % 2 == 0 or n <= 1:\n",
    "        return False\n",
    "    sqr = int(math.sqrt(n)) + 1\n",
    "    for divisor in range(3, sqr, 2):\n",
    "        if n % divisor == 0:\n",
    "            return False\n",
    "    return True"
   ]
  },
  {
   "cell_type": "code",
   "execution_count": 3,
   "id": "08febf62",
   "metadata": {},
   "outputs": [],
   "source": [
    "def egcd(a, b):\n",
    "    if a == 0:\n",
    "        return (b, 0, 1)\n",
    "    else:\n",
    "        g, y, x = egcd(b % a, a)\n",
    "        return (g, x - (b // a) * y, y)"
   ]
  },
  {
   "cell_type": "code",
   "execution_count": 4,
   "id": "1b8a4d4f",
   "metadata": {},
   "outputs": [],
   "source": [
    "def modinv(a, m):\n",
    "    g, x, y = egcd(a, m)\n",
    "    if g != 1:\n",
    "        raise Exception('modular inverse does not exist')\n",
    "    else:\n",
    "        return x % m"
   ]
  },
  {
   "cell_type": "code",
   "execution_count": 5,
   "id": "de05e694",
   "metadata": {},
   "outputs": [
    {
     "name": "stdout",
     "output_type": "stream",
     "text": [
      "Enter a prime number: 3\n",
      "Enter another prime number: 11\n",
      "Enter message20\n",
      "The message is: 20\n",
      "The ciphertext is: 14.0\n",
      "The decrypted message is: 20.0\n"
     ]
    }
   ],
   "source": [
    "p = int(input(\"Enter a prime number: \"))\n",
    "q = int(input(\"Enter another prime number: \"))\n",
    "msg=int(input(\"Enter message\"))\n",
    "if isPrime(p) and isPrime(q):\n",
    "    n = p * q\n",
    "    phi = (p - 1) * (q - 1)\n",
    "    e = 2                      # int(input(\"Enter a number coprime to {}: \".format(phi)))\n",
    "    while e < phi:\n",
    "        if math.egcd(e, phi) == 1:\n",
    "            break\n",
    "        else:\n",
    "            e += 1\n",
    "    d = modinv(e, phi)                    \n",
    "    print(\"The message is: {}\".format(msg))\n",
    "    cipher = pow(msg, e)\n",
    "    cipher = cipher%n              # cipher = float(pow(msg, e, n))\n",
    "\n",
    "    print(\"The ciphertext is: {}\".format(cipher))\n",
    "\n",
    "    m = pow(cipher, d)\n",
    "    m = m%n                         # m = float(pow(int(cipher), d, n))\n",
    "\n",
    "    print(\"The decrypted message is: {}\".format(m))\n",
    "else:\n",
    "    print(\"Error: One of the numbers is not prime\")"
   ]
  },
  {
   "cell_type": "code",
   "execution_count": null,
   "id": "ae3cee25",
   "metadata": {},
   "outputs": [],
   "source": []
  }
 ],
 "metadata": {
  "kernelspec": {
   "display_name": "Python 3",
   "language": "python",
   "name": "python3"
  },
  "language_info": {
   "codemirror_mode": {
    "name": "ipython",
    "version": 3
   },
   "file_extension": ".py",
   "mimetype": "text/x-python",
   "name": "python",
   "nbconvert_exporter": "python",
   "pygments_lexer": "ipython3",
   "version": "3.8.8"
  }
 },
 "nbformat": 4,
 "nbformat_minor": 5
}
